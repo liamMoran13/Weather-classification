{
 "cells": [
  {
   "cell_type": "markdown",
   "metadata": {},
   "source": [
    "# Import Libraries"
   ]
  },
  {
   "cell_type": "code",
   "execution_count": 2,
   "metadata": {},
   "outputs": [],
   "source": [
    "import pandas as pd\n",
    "import matplotlib.pyplot as plt\n",
    "import seaborn as sns\n",
    "import numpy as np\n",
    "import warnings\n",
    "warnings.filterwarnings('ignore')"
   ]
  },
  {
   "cell_type": "markdown",
   "metadata": {},
   "source": [
    "# Read in Raw Data"
   ]
  },
  {
   "cell_type": "code",
   "execution_count": 4,
   "metadata": {},
   "outputs": [],
   "source": [
    "raw_df = pd.read_csv('raw_df.csv', index_col=[0])"
   ]
  },
  {
   "cell_type": "code",
   "execution_count": 5,
   "metadata": {},
   "outputs": [
    {
     "data": {
      "text/plain": [
       "Index(['name', 'datetime', 'tempmax', 'tempmin', 'temp', 'feelslikemax',\n",
       "       'feelslikemin', 'feelslike', 'dew', 'humidity', 'precip', 'precipprob',\n",
       "       'precipcover', 'preciptype', 'snow', 'snowdepth', 'windgust',\n",
       "       'windspeed', 'winddir', 'sealevelpressure', 'cloudcover', 'visibility',\n",
       "       'solarradiation', 'solarenergy', 'uvindex', 'severerisk', 'sunrise',\n",
       "       'sunset', 'moonphase', 'conditions', 'description', 'icon', 'stations'],\n",
       "      dtype='object')"
      ]
     },
     "execution_count": 5,
     "metadata": {},
     "output_type": "execute_result"
    }
   ],
   "source": [
    "raw_df.columns"
   ]
  },
  {
   "cell_type": "markdown",
   "metadata": {},
   "source": [
    "# Create Target Variable"
   ]
  },
  {
   "cell_type": "code",
   "execution_count": 6,
   "metadata": {},
   "outputs": [],
   "source": [
    "#creates boolean column that shows if there was any precipitation at all\n",
    "raw_df['did_it_rain_today'] = raw_df['precip'].apply(lambda x: 1 if x>0 else 0)\n",
    "#shifts the did it rain column down to show that it will rain tomorrow\n",
    "raw_df['target'] = raw_df.groupby('name')['did_it_rain_today'].shift()\n",
    "#remomving values where we dont have the previous day\n",
    "df = raw_df[raw_df['target'].notnull()]"
   ]
  },
  {
   "cell_type": "code",
   "execution_count": 7,
   "metadata": {},
   "outputs": [],
   "source": [
    "df.drop('did_it_rain_today',inplace=True,axis=1)"
   ]
  },
  {
   "cell_type": "code",
   "execution_count": 8,
   "metadata": {},
   "outputs": [],
   "source": [
    "df['datetime'] = pd.to_datetime(df['datetime'])"
   ]
  },
  {
   "cell_type": "code",
   "execution_count": 9,
   "metadata": {},
   "outputs": [
    {
     "name": "stdout",
     "output_type": "stream",
     "text": [
      "<class 'pandas.core.frame.DataFrame'>\n",
      "Int64Index: 11964 entries, 1 to 997\n",
      "Data columns (total 34 columns):\n",
      " #   Column            Non-Null Count  Dtype         \n",
      "---  ------            --------------  -----         \n",
      " 0   name              11964 non-null  object        \n",
      " 1   datetime          11964 non-null  datetime64[ns]\n",
      " 2   tempmax           11964 non-null  float64       \n",
      " 3   tempmin           11964 non-null  float64       \n",
      " 4   temp              11964 non-null  float64       \n",
      " 5   feelslikemax      11964 non-null  float64       \n",
      " 6   feelslikemin      11964 non-null  float64       \n",
      " 7   feelslike         11964 non-null  float64       \n",
      " 8   dew               11964 non-null  float64       \n",
      " 9   humidity          11964 non-null  float64       \n",
      " 10  precip            11964 non-null  float64       \n",
      " 11  precipprob        888 non-null    float64       \n",
      " 12  precipcover       11076 non-null  float64       \n",
      " 13  preciptype        441 non-null    object        \n",
      " 14  snow              11964 non-null  float64       \n",
      " 15  snowdepth         11957 non-null  float64       \n",
      " 16  windgust          8938 non-null   float64       \n",
      " 17  windspeed         11964 non-null  float64       \n",
      " 18  winddir           11964 non-null  float64       \n",
      " 19  sealevelpressure  11964 non-null  float64       \n",
      " 20  cloudcover        11964 non-null  float64       \n",
      " 21  visibility        11964 non-null  float64       \n",
      " 22  solarradiation    11708 non-null  float64       \n",
      " 23  solarenergy       11708 non-null  float64       \n",
      " 24  uvindex           11964 non-null  int64         \n",
      " 25  severerisk        888 non-null    float64       \n",
      " 26  sunrise           11964 non-null  object        \n",
      " 27  sunset            11964 non-null  object        \n",
      " 28  moonphase         11964 non-null  float64       \n",
      " 29  conditions        11964 non-null  object        \n",
      " 30  description       11964 non-null  object        \n",
      " 31  icon              11964 non-null  object        \n",
      " 32  stations          11867 non-null  object        \n",
      " 33  target            11964 non-null  float64       \n",
      "dtypes: datetime64[ns](1), float64(24), int64(1), object(8)\n",
      "memory usage: 3.2+ MB\n"
     ]
    }
   ],
   "source": [
    "df.info()"
   ]
  },
  {
   "cell_type": "markdown",
   "metadata": {},
   "source": [
    "We will split the data into a train, validation, and test set based on the time. "
   ]
  },
  {
   "cell_type": "code",
   "execution_count": 10,
   "metadata": {},
   "outputs": [],
   "source": [
    "training_data = df[(df['datetime'] <= '2021-05-28')]\n",
    "valid_data = df[(df['datetime'] > '2021-05-28') & (df['datetime'] <= '2021-10-26')]\n",
    "test_data = df[(df['datetime'] > '2021-10-26')]"
   ]
  },
  {
   "cell_type": "code",
   "execution_count": 11,
   "metadata": {},
   "outputs": [],
   "source": [
    "training_data.to_csv('training_data.csv')\n",
    "valid_data.to_csv('valid_data.csv')\n",
    "test_data.to_csv('test_data.csv')"
   ]
  },
  {
   "cell_type": "code",
   "execution_count": null,
   "metadata": {},
   "outputs": [],
   "source": []
  }
 ],
 "metadata": {
  "kernelspec": {
   "display_name": "Python 3",
   "language": "python",
   "name": "python3"
  },
  "language_info": {
   "codemirror_mode": {
    "name": "ipython",
    "version": 3
   },
   "file_extension": ".py",
   "mimetype": "text/x-python",
   "name": "python",
   "nbconvert_exporter": "python",
   "pygments_lexer": "ipython3",
   "version": "3.7.6"
  }
 },
 "nbformat": 4,
 "nbformat_minor": 4
}
