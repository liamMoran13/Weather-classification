{
 "cells": [
  {
   "cell_type": "code",
   "execution_count": 1,
   "metadata": {},
   "outputs": [],
   "source": [
    "import pandas as pd"
   ]
  },
  {
   "cell_type": "code",
   "execution_count": 2,
   "metadata": {},
   "outputs": [],
   "source": [
    "first = pd.read_csv('first.csv')\n",
    "second = pd.read_csv('atlanta.csv')\n",
    "third = pd.read_csv('austin.csv')\n",
    "fourth = pd.read_csv('boston.csv')\n",
    "fifth = pd.read_csv('chicago.csv')\n",
    "sixth = pd.read_csv('denver.csv')\n",
    "seventh = pd.read_csv('kansas city.csv')\n",
    "eighth = pd.read_csv('los angeles.csv')\n",
    "ninth = pd.read_csv('minneapolis.csv')\n",
    "tenth = pd.read_csv('portland.csv')\n",
    "eleventh = pd.read_csv('san francisco.csv')"
   ]
  },
  {
   "cell_type": "code",
   "execution_count": 4,
   "metadata": {},
   "outputs": [],
   "source": [
    "raw_df = pd.concat([first,second,third,fourth,fifth,sixth,seventh,eighth,ninth,tenth,eleventh])"
   ]
  },
  {
   "cell_type": "code",
   "execution_count": 5,
   "metadata": {},
   "outputs": [
    {
     "data": {
      "text/plain": [
       "(11976, 33)"
      ]
     },
     "execution_count": 5,
     "metadata": {},
     "output_type": "execute_result"
    }
   ],
   "source": [
    "raw_df.shape"
   ]
  },
  {
   "cell_type": "code",
   "execution_count": 6,
   "metadata": {},
   "outputs": [],
   "source": [
    "raw_df.to_csv('raw_df.csv')"
   ]
  },
  {
   "cell_type": "code",
   "execution_count": null,
   "metadata": {},
   "outputs": [],
   "source": []
  }
 ],
 "metadata": {
  "kernelspec": {
   "display_name": "Python 3",
   "language": "python",
   "name": "python3"
  },
  "language_info": {
   "codemirror_mode": {
    "name": "ipython",
    "version": 3
   },
   "file_extension": ".py",
   "mimetype": "text/x-python",
   "name": "python",
   "nbconvert_exporter": "python",
   "pygments_lexer": "ipython3",
   "version": "3.7.6"
  }
 },
 "nbformat": 4,
 "nbformat_minor": 4
}
